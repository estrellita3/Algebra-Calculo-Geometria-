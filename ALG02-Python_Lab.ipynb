{
 "cells": [
  {
   "cell_type": "markdown",
   "metadata": {},
   "source": [
    "# Introducción a Python - sets, lists, dictionaries, \"comprehension lists\"\n",
    "\n",
    "A lo largo de todo el módulo vamos a usar Python (versión 3.x) y para empezar vamos a realizar un pequeño repaso de los tipos de datos básicos (`int`, `float`, `bool` y `str`). Además, revisaremos rápidamente las estructuras de datos más usadas en Python (`set`, `list`, `dictionary`). Además vamos a intentar aplicar buenas practicas a la hora de escribir código.\n",
    "\n",
    "![](./Images/python1.gif)"
   ]
  },
  {
   "cell_type": "markdown",
   "metadata": {},
   "source": [
    "# 2- Introducción a Python\n",
    "\n",
    "## 2.1- Tipos de variables\n",
    "\n",
    "<ul>\n",
    "    <li>Integers - <b>int</b></li>\n",
    "    <li>Floating-Point Numbers - <b>float</b></li>\n",
    "    <ul>\n",
    "        <li>Decimal</li>\n",
    "    </ul>\n",
    "    <li>Boolean Type - <b>bool</b></li>\n",
    "    <li>Strings - <b>str</b></li>\n",
    "</ul>\n",
    "\n",
    "### Integers"
   ]
  },
  {
   "cell_type": "code",
   "execution_count": null,
   "metadata": {},
   "outputs": [],
   "source": []
  },
  {
   "cell_type": "markdown",
   "metadata": {},
   "source": [
    "### Floating-Point Numbers"
   ]
  },
  {
   "cell_type": "code",
   "execution_count": null,
   "metadata": {},
   "outputs": [],
   "source": []
  },
  {
   "cell_type": "markdown",
   "metadata": {},
   "source": [
    "<a id='ex1'></a>\n",
    "Algo muy curioso que sucede con las variables de tipo `float` es lo siguiente:"
   ]
  },
  {
   "cell_type": "code",
   "execution_count": null,
   "metadata": {},
   "outputs": [],
   "source": []
  },
  {
   "cell_type": "markdown",
   "metadata": {},
   "source": [
    "Ese residuo infinitesimal es un redondeo de las operaciones en bytes. Para poder representarlo de una forma más clara:"
   ]
  },
  {
   "cell_type": "code",
   "execution_count": null,
   "metadata": {},
   "outputs": [],
   "source": []
  },
  {
   "cell_type": "markdown",
   "metadata": {},
   "source": [
    "Ese `.2` indica el número de decimales que queremos imprimir. Por ejemplo:"
   ]
  },
  {
   "cell_type": "code",
   "execution_count": null,
   "metadata": {},
   "outputs": [],
   "source": []
  },
  {
   "cell_type": "markdown",
   "metadata": {},
   "source": [
    "El máximo valor para un número del tipo `floating-point number` es aproximadamente: 1.8x10<sup>308</sup>. Cuando superamos ese valor Python nos lo indica:"
   ]
  },
  {
   "cell_type": "code",
   "execution_count": null,
   "metadata": {},
   "outputs": [],
   "source": []
  },
  {
   "cell_type": "markdown",
   "metadata": {},
   "source": [
    "### Decimal\n",
    "\n",
    "El módulo `decimal` de Python proporciona una mayor precisión para truncar la parte decimal de variables de tipo `float`. Este módulo es muy usado a la hora de trabajar con dinero o tipos de interés.\n",
    "\n",
    "Tomando como ejemplo la siguiente operación: `0.1 + 0.1 + 0.1 - 0.3`, es lógico pensar que su resultado debe ser 0, vamos a comprobarlo:"
   ]
  },
  {
   "cell_type": "code",
   "execution_count": null,
   "metadata": {},
   "outputs": [],
   "source": []
  },
  {
   "cell_type": "markdown",
   "metadata": {},
   "source": [
    "![](./Images/python2.gif)"
   ]
  },
  {
   "cell_type": "markdown",
   "metadata": {},
   "source": [
    "Ocurre lo mismo que en el [ejemplo anterior](#ex1): `1.1 + 2.2`. Puedes leer más en profundidad [aquí](https://docs.python.org/3/library/decimal.html)"
   ]
  },
  {
   "cell_type": "code",
   "execution_count": null,
   "metadata": {},
   "outputs": [],
   "source": []
  },
  {
   "cell_type": "markdown",
   "metadata": {},
   "source": [
    "Si definimos una nueva precisión"
   ]
  },
  {
   "cell_type": "code",
   "execution_count": null,
   "metadata": {},
   "outputs": [],
   "source": []
  },
  {
   "cell_type": "markdown",
   "metadata": {},
   "source": [
    "### Boolean\n",
    "\n",
    "Las variables de tipo `boolean` pueden tener 2 valores: `True` o `False`"
   ]
  },
  {
   "cell_type": "code",
   "execution_count": null,
   "metadata": {},
   "outputs": [],
   "source": []
  },
  {
   "cell_type": "markdown",
   "metadata": {},
   "source": [
    "Del mismo modo que la igualdad, podríamos probar las desigualdades: mayores, menores, distintos.  \n",
    "* *Mayor que*   \n",
    "    '>'\n",
    "* *Menor*   \n",
    "    <\n",
    "* *Mayor o igual que*  \n",
    "    '>'=\n",
    "* *Menor o igual que*   \n",
    "    <=\n",
    "* *Desigualdad*  \n",
    "    !="
   ]
  },
  {
   "cell_type": "code",
   "execution_count": null,
   "metadata": {},
   "outputs": [],
   "source": []
  },
  {
   "cell_type": "markdown",
   "metadata": {},
   "source": [
    "### String\n",
    "\n",
    "Basicamente, un `string` es una secuencia __inmutable__ de caracteres."
   ]
  },
  {
   "cell_type": "code",
   "execution_count": null,
   "metadata": {},
   "outputs": [],
   "source": []
  },
  {
   "cell_type": "markdown",
   "metadata": {},
   "source": [
    "Podemos comprobar si `txt_1` y `txt_2` son equivalentes a pesar de que uno está escrito con doble comillas y otro con comillas simples."
   ]
  },
  {
   "cell_type": "code",
   "execution_count": null,
   "metadata": {},
   "outputs": [],
   "source": []
  },
  {
   "cell_type": "markdown",
   "metadata": {},
   "source": [
    "A veces, necesitamos escribir comillas dentro del string"
   ]
  },
  {
   "cell_type": "code",
   "execution_count": null,
   "metadata": {},
   "outputs": [],
   "source": []
  },
  {
   "cell_type": "markdown",
   "metadata": {},
   "source": [
    "Por si alguno se lo pregunta, ¿que pasaría si intentase escribirlo con comillas simples?"
   ]
  },
  {
   "cell_type": "code",
   "execution_count": null,
   "metadata": {},
   "outputs": [],
   "source": []
  },
  {
   "cell_type": "markdown",
   "metadata": {},
   "source": [
    "Debemos escribirlo de esta forma:"
   ]
  },
  {
   "cell_type": "code",
   "execution_count": null,
   "metadata": {},
   "outputs": [],
   "source": []
  },
  {
   "cell_type": "markdown",
   "metadata": {},
   "source": [
    "## 2.2- Operadores aritméticos\n",
    "\n",
    "En Python, los operadores `+`, `-`, `/` y `*` funcionan como estamos acostumbrados"
   ]
  },
  {
   "cell_type": "code",
   "execution_count": null,
   "metadata": {},
   "outputs": [],
   "source": []
  },
  {
   "cell_type": "markdown",
   "metadata": {},
   "source": [
    "### Números negativos\n",
    "Para definir números negativos:"
   ]
  },
  {
   "cell_type": "code",
   "execution_count": null,
   "metadata": {},
   "outputs": [],
   "source": []
  },
  {
   "cell_type": "markdown",
   "metadata": {},
   "source": [
    "### División"
   ]
  },
  {
   "cell_type": "code",
   "execution_count": null,
   "metadata": {},
   "outputs": [],
   "source": []
  },
  {
   "cell_type": "markdown",
   "metadata": {},
   "source": [
    "Para devolver solo la parte entera:"
   ]
  },
  {
   "cell_type": "code",
   "execution_count": null,
   "metadata": {},
   "outputs": [],
   "source": []
  },
  {
   "cell_type": "markdown",
   "metadata": {},
   "source": [
    "El operador módulo `%` no hace otra cosa que devolver el resto de la división:"
   ]
  },
  {
   "cell_type": "code",
   "execution_count": null,
   "metadata": {},
   "outputs": [],
   "source": []
  },
  {
   "cell_type": "markdown",
   "metadata": {},
   "source": [
    "<div class=\"alert alert-success\">\n",
    "    <b>Ejercicio:</b> Calcula el resto de dividir 2348569 entre 49 - Sin usar el operador <b>%</b>\n",
    "</div>"
   ]
  },
  {
   "cell_type": "code",
   "execution_count": null,
   "metadata": {},
   "outputs": [],
   "source": []
  },
  {
   "cell_type": "markdown",
   "metadata": {},
   "source": [
    "Usando el operador `%`"
   ]
  },
  {
   "cell_type": "code",
   "execution_count": null,
   "metadata": {},
   "outputs": [],
   "source": []
  },
  {
   "cell_type": "markdown",
   "metadata": {},
   "source": [
    "<hr style=\"height: 2px; background-color: #858585;\">"
   ]
  },
  {
   "cell_type": "markdown",
   "metadata": {},
   "source": [
    "### Raíces y potencias\n",
    "Para elevar un número:"
   ]
  },
  {
   "cell_type": "code",
   "execution_count": null,
   "metadata": {},
   "outputs": [],
   "source": []
  },
  {
   "cell_type": "markdown",
   "metadata": {},
   "source": [
    "Python usa la notación tradicional para la notación científica. Por ejemplo:"
   ]
  },
  {
   "cell_type": "code",
   "execution_count": null,
   "metadata": {},
   "outputs": [],
   "source": []
  },
  {
   "cell_type": "markdown",
   "metadata": {},
   "source": [
    "`6e2` denota el valor: 6x10<sup>2</sup>"
   ]
  },
  {
   "cell_type": "markdown",
   "metadata": {},
   "source": [
    "También podemos definir una raíz cuadrada de la siguiente forma:"
   ]
  },
  {
   "cell_type": "code",
   "execution_count": null,
   "metadata": {},
   "outputs": [],
   "source": []
  },
  {
   "cell_type": "markdown",
   "metadata": {},
   "source": [
    "El orden de precedencia de ejecución de los operadores aritméticos es:\n",
    "<ul>\n",
    "    <li>Exponente: **</li>\n",
    "    <li>Negación: -</li>\n",
    "    <li>Multiplicación, División, División entera, Módulo: *, /, //, %</li>\n",
    "    <li>Suma, Resta: +, -</li>\n",
    "</ul>"
   ]
  },
  {
   "cell_type": "markdown",
   "metadata": {},
   "source": [
    "<div class=\"alert alert-success\">\n",
    "    <b>Ejercicio:</b> Calcula los minutos que hay en una semana\n",
    "</div>"
   ]
  },
  {
   "cell_type": "code",
   "execution_count": null,
   "metadata": {},
   "outputs": [],
   "source": []
  },
  {
   "cell_type": "markdown",
   "metadata": {},
   "source": [
    "¿Cómo lo podemos escribir de una forma más legible?"
   ]
  },
  {
   "cell_type": "code",
   "execution_count": null,
   "metadata": {},
   "outputs": [],
   "source": []
  },
  {
   "cell_type": "markdown",
   "metadata": {},
   "source": [
    "<hr style=\"height: 2px; background-color: #858585;\">"
   ]
  },
  {
   "cell_type": "markdown",
   "metadata": {},
   "source": [
    "<div class=\"alert alert-success\">\n",
    "    <b>Ejercicio:</b> Crea una expresión de tipo boolean para saber si la suma de 673 y 909 es divisible entre 3.\n",
    "</div>"
   ]
  },
  {
   "cell_type": "code",
   "execution_count": null,
   "metadata": {},
   "outputs": [],
   "source": []
  },
  {
   "cell_type": "markdown",
   "metadata": {},
   "source": [
    "Si el resultado de `(673 + 909) % 3` fuera `0`, sería divisible por 3"
   ]
  },
  {
   "cell_type": "markdown",
   "metadata": {},
   "source": [
    "<hr style=\"height: 2px; background-color: #858585;\">"
   ]
  },
  {
   "cell_type": "markdown",
   "metadata": {},
   "source": [
    "### Redondeo\n",
    "Para obtener la parte entera de un número"
   ]
  },
  {
   "cell_type": "code",
   "execution_count": null,
   "metadata": {},
   "outputs": [],
   "source": []
  },
  {
   "cell_type": "markdown",
   "metadata": {},
   "source": [
    "Para redondear un número"
   ]
  },
  {
   "cell_type": "code",
   "execution_count": null,
   "metadata": {},
   "outputs": [],
   "source": []
  },
  {
   "cell_type": "markdown",
   "metadata": {},
   "source": [
    "Podemos indicar el número de decimales que queremos imprimir"
   ]
  },
  {
   "cell_type": "code",
   "execution_count": null,
   "metadata": {},
   "outputs": [],
   "source": []
  },
  {
   "cell_type": "markdown",
   "metadata": {},
   "source": [
    "Podemos usar `math`, que es una librería de Python donde se encuentra la mayor parte de las funciones matemáticas más comunes. La usaremos más adelante en profundidad."
   ]
  },
  {
   "cell_type": "code",
   "execution_count": null,
   "metadata": {},
   "outputs": [],
   "source": []
  },
  {
   "cell_type": "markdown",
   "metadata": {},
   "source": [
    "Con `trunc` no se puede definir el número de decimales que queremos. Para ello, es mejor usar la función `round` que viene definida por defecto en Python."
   ]
  },
  {
   "cell_type": "markdown",
   "metadata": {},
   "source": [
    "## 2.3- Números complejos"
   ]
  },
  {
   "cell_type": "markdown",
   "metadata": {},
   "source": [
    "Los números complejos tienen una parte real y otra imaginaria y cada una de ellas se representa como un `float`."
   ]
  },
  {
   "cell_type": "code",
   "execution_count": null,
   "metadata": {},
   "outputs": [],
   "source": []
  },
  {
   "cell_type": "markdown",
   "metadata": {},
   "source": [
    "Para sumar o restar dos números complejos:\n",
    "$(2-i)-(6+2i)$"
   ]
  },
  {
   "cell_type": "code",
   "execution_count": null,
   "metadata": {},
   "outputs": [],
   "source": []
  },
  {
   "cell_type": "markdown",
   "metadata": {},
   "source": [
    "Multiplicación de dos números complejos: $(3+2i)(1-5i)$"
   ]
  },
  {
   "cell_type": "code",
   "execution_count": null,
   "metadata": {},
   "outputs": [],
   "source": []
  },
  {
   "cell_type": "markdown",
   "metadata": {},
   "source": [
    "Ahora la división de dos números complejos: $\\frac{1+i}{1+2i}$"
   ]
  },
  {
   "cell_type": "code",
   "execution_count": null,
   "metadata": {},
   "outputs": [],
   "source": []
  },
  {
   "cell_type": "markdown",
   "metadata": {},
   "source": [
    "Para hacer cálculos de forma exacta, usamos el módulo Sympy. $\\frac{1+i}{1+2i}$"
   ]
  },
  {
   "cell_type": "code",
   "execution_count": null,
   "metadata": {},
   "outputs": [],
   "source": []
  },
  {
   "cell_type": "markdown",
   "metadata": {},
   "source": [
    "<div class=\"alert alert-success\">\n",
    "    <b>Ejemplo:</b> $\\frac{6}{2-i}$\n",
    "</div>"
   ]
  },
  {
   "cell_type": "code",
   "execution_count": null,
   "metadata": {},
   "outputs": [],
   "source": []
  },
  {
   "cell_type": "markdown",
   "metadata": {},
   "source": [
    "## 2.4- Tipos de estructuras de datos\n",
    "\n",
    "Vamos a cubrir las siguientes estructuras de datos que nos propociona python y que nos será muy útil a lo largo de todo el módulo.\n",
    "\n",
    "- Listas\n",
    "- Sets\n",
    "- Tuplas\n",
    "- Diccionarios"
   ]
  },
  {
   "cell_type": "markdown",
   "metadata": {},
   "source": [
    "### 2.4.1- Listas\n",
    "\n",
    "Nos sirven para representar una secuencia de valores. En una lista, el order es __importante__ y __se puede repetir elementos__."
   ]
  },
  {
   "cell_type": "code",
   "execution_count": null,
   "metadata": {},
   "outputs": [],
   "source": []
  },
  {
   "cell_type": "markdown",
   "metadata": {},
   "source": [
    "No existen ningún tipo de restricciones en las listas, por ejemplo:"
   ]
  },
  {
   "cell_type": "code",
   "execution_count": null,
   "metadata": {},
   "outputs": [],
   "source": []
  },
  {
   "cell_type": "markdown",
   "metadata": {},
   "source": [
    "Podemos realizar algunas operaciones con las `listas`"
   ]
  },
  {
   "cell_type": "code",
   "execution_count": null,
   "metadata": {},
   "outputs": [],
   "source": []
  },
  {
   "cell_type": "markdown",
   "metadata": {},
   "source": [
    "Podemos calcular la longitud de la lista"
   ]
  },
  {
   "cell_type": "code",
   "execution_count": null,
   "metadata": {},
   "outputs": [],
   "source": []
  },
  {
   "cell_type": "markdown",
   "metadata": {},
   "source": [
    "Podemos sumar los elementos"
   ]
  },
  {
   "cell_type": "code",
   "execution_count": null,
   "metadata": {},
   "outputs": [],
   "source": []
  },
  {
   "cell_type": "markdown",
   "metadata": {},
   "source": [
    "O por ejemplo:"
   ]
  },
  {
   "cell_type": "code",
   "execution_count": null,
   "metadata": {},
   "outputs": [],
   "source": []
  },
  {
   "cell_type": "markdown",
   "metadata": {},
   "source": [
    "<div class=\"alert alert-success\">\n",
    "    <b>Ejercicio:</b> Calcula la media de los elementos de esta lista [20, 75, 10, 2+5]\n",
    "</div>"
   ]
  },
  {
   "cell_type": "code",
   "execution_count": null,
   "metadata": {},
   "outputs": [],
   "source": []
  },
  {
   "cell_type": "markdown",
   "metadata": {},
   "source": [
    "<hr style=\"height: 2px; background-color: #858585;\">"
   ]
  },
  {
   "cell_type": "markdown",
   "metadata": {},
   "source": [
    "#### Concatenar elementos\n",
    "\n",
    "Podemos concatenar elementos a una lista ya creada"
   ]
  },
  {
   "cell_type": "code",
   "execution_count": null,
   "metadata": {},
   "outputs": [],
   "source": []
  },
  {
   "cell_type": "markdown",
   "metadata": {},
   "source": [
    "Podemos comprobar si una variable es una lista usando `type()`"
   ]
  },
  {
   "cell_type": "code",
   "execution_count": null,
   "metadata": {},
   "outputs": [],
   "source": []
  },
  {
   "cell_type": "markdown",
   "metadata": {},
   "source": [
    "#### Suma\n",
    "\n",
    "Podemos obtener la concatenación de varias listas usando `sum()` pero debemos añadir `[]` como segundo argumento"
   ]
  },
  {
   "cell_type": "code",
   "execution_count": null,
   "metadata": {},
   "outputs": [],
   "source": []
  },
  {
   "cell_type": "markdown",
   "metadata": {},
   "source": [
    "#### Obtener elementos de una lista by indexing\n",
    "Para obtener elementos de una lista existen varias formas:"
   ]
  },
  {
   "cell_type": "code",
   "execution_count": null,
   "metadata": {},
   "outputs": [],
   "source": []
  },
  {
   "cell_type": "markdown",
   "metadata": {},
   "source": [
    "<div class=\"alert alert-block alert-danger\">\n",
    "    <b>⚠️ ATENCIÓN ⚠️</b> Los índices empiezan en 0!!\n",
    "</div>\n",
    "\n",
    "![](./Images/python3.gif)"
   ]
  },
  {
   "cell_type": "markdown",
   "metadata": {},
   "source": [
    "Otra forma fundamental para extraer elementos de una lista son `slices`"
   ]
  },
  {
   "cell_type": "code",
   "execution_count": null,
   "metadata": {},
   "outputs": [],
   "source": []
  },
  {
   "cell_type": "markdown",
   "metadata": {},
   "source": [
    "Podemos invertirlo"
   ]
  },
  {
   "cell_type": "code",
   "execution_count": null,
   "metadata": {},
   "outputs": [],
   "source": []
  },
  {
   "cell_type": "markdown",
   "metadata": {},
   "source": [
    "Los `slices` se pueden usar para extraer elementos cada `n elementos` usando una notación `a:b:c`. Por ejemplo:"
   ]
  },
  {
   "cell_type": "code",
   "execution_count": null,
   "metadata": {},
   "outputs": [],
   "source": []
  },
  {
   "cell_type": "markdown",
   "metadata": {},
   "source": [
    "Podemos empezar desde el segundo elemento usando:"
   ]
  },
  {
   "cell_type": "code",
   "execution_count": null,
   "metadata": {},
   "outputs": [],
   "source": []
  },
  {
   "cell_type": "markdown",
   "metadata": {},
   "source": [
    "#### Actualizando una lista\n",
    "\n",
    "Podemos actualizar los elementos de una lista"
   ]
  },
  {
   "cell_type": "code",
   "execution_count": null,
   "metadata": {},
   "outputs": [],
   "source": []
  },
  {
   "cell_type": "markdown",
   "metadata": {},
   "source": [
    "### 2.4.2- Sets\n",
    "\n",
    "Un conjunto es una colección desordenada de objetos, que aparecen al menos una vez."
   ]
  },
  {
   "cell_type": "code",
   "execution_count": null,
   "metadata": {},
   "outputs": [],
   "source": []
  },
  {
   "cell_type": "markdown",
   "metadata": {},
   "source": [
    "Es importante resaltar que los duplicados son eliminados y que el order a la hora de imprimir los elementos no es necesariamente igual al order de los elementos insertados."
   ]
  },
  {
   "cell_type": "markdown",
   "metadata": {},
   "source": [
    "#### Representación gráfica de un conjunto\n",
    "\n",
    "La más conocida es el **diagrama de Venn**.\n",
    "\n",
    "<img src=\"./Images/diagrama_venn.png\" width=400 height=200>"
   ]
  },
  {
   "cell_type": "code",
   "execution_count": null,
   "metadata": {},
   "outputs": [],
   "source": []
  },
  {
   "cell_type": "markdown",
   "metadata": {},
   "source": [
    "#### Cardinalidad\n",
    "La __cardinalidad__ del set (conjunto) `S`, representado matemáticamente como |S|, indica el número de elementos del conjunto S. En Python, la cardinalidad se obtiene usando `len()`.\n"
   ]
  },
  {
   "cell_type": "code",
   "execution_count": null,
   "metadata": {},
   "outputs": [],
   "source": []
  },
  {
   "cell_type": "markdown",
   "metadata": {},
   "source": [
    "Según el valor del cardinal podemos encontrarnos algunos conjuntos con *nombre propio*:  \n",
    " \n",
    "**Conjunto vacío**:  \n",
    "- Si el conjunto tiene cero elementos.   \n",
    "- Se representa por $\\varnothing$  \n",
    "- El cardinal vale 0  \n",
    "- <b>Ejemplo:</b> El conjunto de los triángulos que tienen cuatro lados</style>  \n",
    "\n",
    "**Conjunto unitario**:  \n",
    "- Si el conjunto tiene un único elemento.   \n",
    "- El cardinal vale 1  \n",
    "- <b>Ejemplo:</b> El conjunto de satélites de la Tierra (Sólo tiene uno, la Luna)</style> \n",
    "\n",
    "**Conjunto infinito**:  \n",
    "- Si el conjunto tiene infinitos elementos.   \n",
    "- El cardinal es infinito  \n",
    "- <b>Ejemplo:</b> El conjunto de los infinitos números reales comprendidos entre 1 y 2</style>"
   ]
  },
  {
   "cell_type": "markdown",
   "metadata": {},
   "source": [
    "<div class=\"alert alert-success\">\n",
    "    <b>Ejercicio:</b> El conjunto de los triángulos que tienen cuatro lados\n",
    "</div>"
   ]
  },
  {
   "cell_type": "code",
   "execution_count": null,
   "metadata": {},
   "outputs": [],
   "source": []
  },
  {
   "cell_type": "markdown",
   "metadata": {},
   "source": [
    "<div class=\"alert alert-success\">\n",
    "    <b>Ejercicio:</b> El conjunto de satélites de la Tierra\n",
    "</div>"
   ]
  },
  {
   "cell_type": "code",
   "execution_count": null,
   "metadata": {},
   "outputs": [],
   "source": []
  },
  {
   "cell_type": "markdown",
   "metadata": {},
   "source": [
    "<div class=\"alert alert-success\">\n",
    "    <b>Ejercicio:</b> El conjunto de los infinitos números reales comprendidos entre 1 y 2\n",
    "</div>\n",
    "\n",
    "Al haber infinitos números entre el 1 y el 2, es imposible computacionalmente pero podemos determinar un `paso`."
   ]
  },
  {
   "cell_type": "code",
   "execution_count": null,
   "metadata": {},
   "outputs": [],
   "source": []
  },
  {
   "cell_type": "markdown",
   "metadata": {},
   "source": [
    "#### Relación de pertenencia\n",
    "\n",
    "**$\\in$** indica que un objeto pertenece a un conjunto. En Python, la equivalencia se obtiene usando **in** o **not in**"
   ]
  },
  {
   "cell_type": "code",
   "execution_count": null,
   "metadata": {},
   "outputs": [],
   "source": []
  },
  {
   "cell_type": "markdown",
   "metadata": {},
   "source": [
    "#### Determinación de un conjunto\n",
    "\n",
    "Determinar o definir un conjunto es dar un criterio que permita decidir, sin ambigüedad, si un determinado objeto pertenece, o no pertenece, a dicho conjunto.\n",
    "\n",
    "\n",
    "<div class=\"alert alert-success\">\n",
    "    <code>A= {Series de TV interesantes}</code> - <b>Este conjunto está mal definido ya que el criterio dado es subjetivo</b>\n",
    "</div>\n",
    "\n",
    "<div class=\"alert alert-success\">\n",
    "    <code>B= {Series de TV de temática bélica}  </code> - <b>Este conjunto está bien definido ya que el criterio dado me permite decir cuando una serie de TV pertenece o no pertenece a este conjunto</b>\n",
    "</div>"
   ]
  },
  {
   "cell_type": "markdown",
   "metadata": {},
   "source": [
    "#### Subconjuntos\n",
    "\n",
    "Podemos también crear un conjunto y obtener a partir de él un subconjunto.  \n",
    "\n",
    "Dicho más formalmente, dados dos conjuntos A y B, diremos que B es **subconjunto** de A, o que B está **incluido** en A, si todo elemento de B, pertenece también al conjunto A.  \n",
    "Se expresa:  \n",
    "\n",
    "<center>$A \\supset B$ ó $B \\subset A$</center>"
   ]
  },
  {
   "cell_type": "markdown",
   "metadata": {},
   "source": [
    "<div class=\"alert alert-success\">\n",
    "    <b>Ejercicio:</b> Definamos el conjunto S como todos los enteros del -3 al 3 y obtengamos el conjunto de todos los que son mayores o iguales a 0\n",
    "</div>"
   ]
  },
  {
   "cell_type": "code",
   "execution_count": null,
   "metadata": {},
   "outputs": [],
   "source": []
  },
  {
   "cell_type": "markdown",
   "metadata": {},
   "source": [
    "Como hemos visto en el paso anterior, podemos convertir una `lista` o `array` a un conjunto usando `set`"
   ]
  },
  {
   "cell_type": "code",
   "execution_count": null,
   "metadata": {},
   "outputs": [],
   "source": []
  },
  {
   "cell_type": "markdown",
   "metadata": {},
   "source": [
    "Hay un tipo especial de **subconjuntos** denominados **impropios**, que, para el conjunto A, son:  \n",
    "* El conjunto A (el conjunto completo)  \n",
    "* El conjunto $\\varnothing$ (el conjunto vacío)   \n",
    "\n",
    "Resulta fácil ver que son subconjuntos de A, aunque son muy particulares."
   ]
  },
  {
   "cell_type": "markdown",
   "metadata": {},
   "source": [
    "#### Igualdad de dos conjuntos\n",
    "\n",
    "Diremos que dos conjuntos A y B son iguales cuando tienen los mismos elementos:  \n",
    "<center>A = B $\\Rightarrow$ A $\\subset$ B y B $\\subset$ A</center>"
   ]
  },
  {
   "cell_type": "markdown",
   "metadata": {},
   "source": [
    "<div class=\"alert alert-success\">\n",
    "    <b>Ejercicio:</b> ¿El conjunto A= {x/x es un entero par; $0<x<6$} y B= {2,4} son iguales?\n",
    "</div>"
   ]
  },
  {
   "cell_type": "code",
   "execution_count": null,
   "metadata": {},
   "outputs": [],
   "source": []
  },
  {
   "cell_type": "markdown",
   "metadata": {},
   "source": [
    "#### Suma\n",
    "\n",
    "Al igual que con las `listas`, podemos realizar la suma de sus elementos usando `sum`"
   ]
  },
  {
   "cell_type": "code",
   "execution_count": null,
   "metadata": {},
   "outputs": [],
   "source": []
  },
  {
   "cell_type": "markdown",
   "metadata": {},
   "source": [
    "#### Unión\n",
    "\n",
    "La **unión** de dos conjuntos A y B es un nuevo conjunto que contiene los elementos que pertenecen a A y/o a B.  \n",
    "\n",
    "<center>A $\\cup$ B = {x / x$\\in$A ó x$\\in$B} </center>"
   ]
  },
  {
   "cell_type": "code",
   "execution_count": null,
   "metadata": {},
   "outputs": [],
   "source": []
  },
  {
   "cell_type": "markdown",
   "metadata": {},
   "source": [
    "Podemos realizarla de esta forma:"
   ]
  },
  {
   "cell_type": "code",
   "execution_count": null,
   "metadata": {},
   "outputs": [],
   "source": []
  },
  {
   "cell_type": "markdown",
   "metadata": {},
   "source": [
    "#### Intersección de conjuntos\n",
    "\n",
    "La **intersección** de dos conjuntos A y B es un nuevo conjunto que contiene los elementos que pertenecen a A y a B (a ambos a la vez).  \n",
    "\n",
    "<center>A $\\cap$ B = {x / x$\\in$A y x$\\in$B} </center>\n"
   ]
  },
  {
   "cell_type": "code",
   "execution_count": null,
   "metadata": {},
   "outputs": [],
   "source": []
  },
  {
   "cell_type": "markdown",
   "metadata": {},
   "source": [
    "También podemos realizar la intersección de esta forma:"
   ]
  },
  {
   "cell_type": "code",
   "execution_count": null,
   "metadata": {},
   "outputs": [],
   "source": []
  },
  {
   "cell_type": "markdown",
   "metadata": {},
   "source": [
    "Si A $\\cap$ B = $\\varnothing$ entonces A y B son **conjuntos disjuntos**, es decir, no tienen ningún elemento en común."
   ]
  },
  {
   "cell_type": "code",
   "execution_count": null,
   "metadata": {},
   "outputs": [],
   "source": []
  },
  {
   "cell_type": "markdown",
   "metadata": {},
   "source": [
    "#### Propiedades de la unión y la intersección\n",
    "\n",
    "Sean A,B y C subconjuntos cualesquiera de un conjunto universal E, se tiene:  \n",
    "\n",
    "1. **Uniforme**  \n",
    "> Dados A y B, tanto A $\\cup$ B como A $\\cap$ B existen y son únicos\n",
    "2. **Conmutativas**  \n",
    "> A $\\cup$ B=B $\\cup$ A  \n",
    "> A $\\cap$ B=B $\\cap$ A \n",
    "3. **Asociativas**  \n",
    "> A $\\cup$ (B $\\cup$ C) = (A $\\cup$ B) $\\cup$ C  \n",
    "> A $\\cap$ (B $\\cap$ C) = (A $\\cap$ B) $\\cap$ C  \n",
    "4. **Idempotencia**  \n",
    "> A $\\cup$ A = A  \n",
    "> A $\\cap$ A = A  \n",
    "5. **Elemento neutro**  \n",
    "> A $\\cup$ $\\varnothing$ = A  \n",
    "> A $\\cap$ E = A  \n",
    "6. **Absorción**  \n",
    "> A $\\cup$ (A $\\cap$ B) = A  \n",
    "> A $\\cap$ (A $\\cup$ B) = A\n",
    "7. **Distributivas**  \n",
    "> A $\\cup$ (B $\\cap$ C) = (A $\\cup$ B) $\\cap$ (A $\\cup$ C)  \n",
    "> A $\\cap$ (B $\\cup$ C) = (A $\\cap$ B) $\\cup$ (A $\\cap$ C)  "
   ]
  },
  {
   "cell_type": "markdown",
   "metadata": {},
   "source": [
    "### Conjunto universal E\n",
    "\n",
    "Decimos que un **conjunto universal** es cualquier conjunto que contiene una serie de conjuntos y que puede, además, contener elementos."
   ]
  },
  {
   "cell_type": "markdown",
   "metadata": {},
   "source": [
    "#### Conjunto de las partes de un conjunto universal E\n",
    "\n",
    "Es el conjunto formado por todos los subconjuntos de E, incluyendo los subconjuntos impropios.\n",
    "\n",
    "<div class=\"alert alert-success\">\n",
    "    Sea $E={a,b,c}$, entonces el conjunto de las partes de E viene dado por:\n",
    "</div><br>\n",
    "\n",
    "\n",
    "<center>{${\\varnothing,{a},{b},{c},\\{a,b\\},\\{a,c\\},\\{b,c\\},\\{a,b,c\\}}$}</center>"
   ]
  },
  {
   "cell_type": "markdown",
   "metadata": {},
   "source": [
    "Como E tiene 3 elementos, el conjunto de las partes de E tiene 2<sup>3</sup>=8 elementos</style>"
   ]
  },
  {
   "cell_type": "markdown",
   "metadata": {},
   "source": [
    "#### Conjunto complementario\n",
    "\n",
    "Dado un conjunto A, se denomina **conjunto complementario** respecto de un conjunto universal E, al conjunto $\\overline{A}$, formado por los elemento de E que no están en A.  \n",
    "\n",
    "<center> $\\overline{A}$ = {x / x$\\in$E y x$\\not\\in$A} </center>"
   ]
  },
  {
   "cell_type": "code",
   "execution_count": null,
   "metadata": {},
   "outputs": [],
   "source": []
  },
  {
   "cell_type": "markdown",
   "metadata": {},
   "source": [
    "#### Diferencia relativa de dos conjuntos\n",
    "\n",
    "Se llama **diferencia relativa** de dos conjuntos A y B (o simplemente diferencia) al conjunto formado por los elementos de A que no pertenecen a B.\n",
    "\n",
    "<center>A - B = {x / x$\\in$A y x$\\not\\in$B} = A $\\cap$ $\\overline{B}$</center>"
   ]
  },
  {
   "cell_type": "code",
   "execution_count": null,
   "metadata": {},
   "outputs": [],
   "source": []
  },
  {
   "cell_type": "markdown",
   "metadata": {},
   "source": [
    "#### Mutabilidad de los conjuntos\n",
    "\n",
    "Los conjuntos son **mutables**, es decir, cambiantes, porque podemos añadir o borrar elementos, y modificar sus elementos. "
   ]
  },
  {
   "cell_type": "markdown",
   "metadata": {},
   "source": [
    "Para añadir un elemento `add`"
   ]
  },
  {
   "cell_type": "code",
   "execution_count": null,
   "metadata": {},
   "outputs": [],
   "source": []
  },
  {
   "cell_type": "markdown",
   "metadata": {},
   "source": [
    "Para eliminar un elemento `remove`"
   ]
  },
  {
   "cell_type": "code",
   "execution_count": null,
   "metadata": {},
   "outputs": [],
   "source": []
  },
  {
   "cell_type": "markdown",
   "metadata": {},
   "source": [
    "Podemos añadir varios elementos al mismo tiempo usando `update`"
   ]
  },
  {
   "cell_type": "code",
   "execution_count": null,
   "metadata": {},
   "outputs": [],
   "source": []
  },
  {
   "cell_type": "markdown",
   "metadata": {},
   "source": [
    "Podemos quedarnos sólo con la intersección de nuestro conjunto con otro dado. Por ejemplo, queremos obtener intersección de A con {7,8,9} y que ese conjunto sustituya a nuestro A"
   ]
  },
  {
   "cell_type": "code",
   "execution_count": null,
   "metadata": {},
   "outputs": [],
   "source": []
  },
  {
   "cell_type": "markdown",
   "metadata": {},
   "source": [
    "<div class=\"alert alert-success\">\n",
    "    <b>Ejercicio:</b> Crea un nuevo conjunto a partir del conjunto A = {1, 2, 3, 4, 5} cuyo valores sean el cuadrado de los elementos del conjunto A.\n",
    "</div>"
   ]
  },
  {
   "cell_type": "code",
   "execution_count": null,
   "metadata": {},
   "outputs": [],
   "source": []
  },
  {
   "cell_type": "markdown",
   "metadata": {},
   "source": [
    "Podemos escribirlo de una forma mucho más clara y sencilla usando `comprehension lists`"
   ]
  },
  {
   "cell_type": "code",
   "execution_count": null,
   "metadata": {},
   "outputs": [],
   "source": []
  },
  {
   "cell_type": "markdown",
   "metadata": {},
   "source": [
    "<hr style=\"height: 2px; background-color: #858585;\">"
   ]
  },
  {
   "cell_type": "markdown",
   "metadata": {},
   "source": [
    "<div class=\"alert alert-success\">\n",
    "    <b>Ejercicio:</b> Teniendo en cuenta el conjunto <b>S</b> y el conjunto <b>T</b>, sin usar el operador de intersección <b>&</b>, calcula la intersección de dichos conjuntos.\n",
    "</div>"
   ]
  },
  {
   "cell_type": "code",
   "execution_count": null,
   "metadata": {},
   "outputs": [],
   "source": []
  },
  {
   "cell_type": "markdown",
   "metadata": {},
   "source": [
    "Como antes, podemos escribir la operación anterior de una forma mucho más clara."
   ]
  },
  {
   "cell_type": "code",
   "execution_count": null,
   "metadata": {},
   "outputs": [],
   "source": []
  },
  {
   "cell_type": "markdown",
   "metadata": {},
   "source": [
    "<hr style=\"height: 2px; background-color: #858585;\">"
   ]
  },
  {
   "cell_type": "markdown",
   "metadata": {},
   "source": [
    "### 2.4.3- Tuples\n",
    "\n",
    "Las `tuples` son como las listas, una secuencia ordenada de elementos. Sin embargo, no se puede modificar sus elementos, es decir, son __inmutables__."
   ]
  },
  {
   "cell_type": "code",
   "execution_count": null,
   "metadata": {},
   "outputs": [],
   "source": []
  },
  {
   "cell_type": "markdown",
   "metadata": {},
   "source": [
    "Podemos crear un `set` con `tuples` dentro"
   ]
  },
  {
   "cell_type": "code",
   "execution_count": null,
   "metadata": {},
   "outputs": [],
   "source": []
  },
  {
   "cell_type": "markdown",
   "metadata": {},
   "source": [
    "#### Extraer elementos de una tuple"
   ]
  },
  {
   "cell_type": "markdown",
   "metadata": {},
   "source": [
    "Definimos una tuple:"
   ]
  },
  {
   "cell_type": "code",
   "execution_count": null,
   "metadata": {},
   "outputs": [],
   "source": []
  },
  {
   "cell_type": "markdown",
   "metadata": {},
   "source": [
    "También podemos definirlo:"
   ]
  },
  {
   "cell_type": "code",
   "execution_count": null,
   "metadata": {},
   "outputs": [],
   "source": []
  },
  {
   "cell_type": "markdown",
   "metadata": {},
   "source": [
    "O de la siguiente forma:"
   ]
  },
  {
   "cell_type": "code",
   "execution_count": null,
   "metadata": {},
   "outputs": [],
   "source": []
  },
  {
   "cell_type": "markdown",
   "metadata": {},
   "source": [
    "Si intentamos extraer más elementos de los que contiene tuple obtenemos el siguiente error:"
   ]
  },
  {
   "cell_type": "code",
   "execution_count": null,
   "metadata": {},
   "outputs": [],
   "source": []
  },
  {
   "cell_type": "markdown",
   "metadata": {},
   "source": [
    "<div class=\"alert alert-success\">\n",
    "    <b>Ejercicio:</b> Calcula la combinación de 3 elementos que sumen 0 de la siguiente tuple (−4,−2, 1, 2, 5, 0)\n",
    "</div>"
   ]
  },
  {
   "cell_type": "code",
   "execution_count": null,
   "metadata": {},
   "outputs": [],
   "source": []
  },
  {
   "cell_type": "markdown",
   "metadata": {},
   "source": [
    "Podemos hacerlo de una forma más clara usando `list comprehension`"
   ]
  },
  {
   "cell_type": "code",
   "execution_count": null,
   "metadata": {},
   "outputs": [],
   "source": []
  },
  {
   "cell_type": "markdown",
   "metadata": {},
   "source": [
    "<hr style=\"height: 2px; background-color: #858585;\">"
   ]
  },
  {
   "cell_type": "markdown",
   "metadata": {},
   "source": [
    "### 2.4.4- Dictionaries\n",
    "\n",
    "Los **diccionarios** son una estructura que almacena los elementos a los que se les da un nombre o clave (key).  \n",
    "De esta forma, en vez de acceder al elemento por medio del índice que ocupa, se accede a él por el nombre que tiene.  \n",
    "Podemos definir un diccionario como un conjunto de parejas clave-valor, donde la clave es el nombre que se le da a un valor.  \n",
    "Los valores de un diccionario pueden tener cualquier forma: números, strings, listas,.."
   ]
  },
  {
   "cell_type": "code",
   "execution_count": null,
   "metadata": {},
   "outputs": [],
   "source": [
    "{'A':0, 'B':1, 'C':2, 'D':3, 'E':4, 'F':5, 'G':6, 'H':7, 'I':8,\n",
    "'J':9, 'K':10, 'L':11, 'M':12, 'N':13, 'O':14, 'P':15, 'Q':16,\n",
    "'R':17, 'S':18, 'T':19, 'U':20, 'V':21, 'W':22, 'X':23, 'Y':24,\n",
    "'Z':25}"
   ]
  },
  {
   "cell_type": "markdown",
   "metadata": {},
   "source": [
    "Si asignamos un valor a múltiples índices, solo se asociará un valor"
   ]
  },
  {
   "cell_type": "code",
   "execution_count": null,
   "metadata": {},
   "outputs": [],
   "source": []
  },
  {
   "cell_type": "markdown",
   "metadata": {},
   "source": [
    "#### Como extraer un elemento de un diccionario"
   ]
  },
  {
   "cell_type": "code",
   "execution_count": null,
   "metadata": {},
   "outputs": [],
   "source": []
  },
  {
   "cell_type": "markdown",
   "metadata": {},
   "source": [
    "Para extraer el elemento debemos hacerlo por su `key` o por su `valor`"
   ]
  },
  {
   "cell_type": "code",
   "execution_count": null,
   "metadata": {},
   "outputs": [],
   "source": []
  },
  {
   "cell_type": "markdown",
   "metadata": {},
   "source": [
    "Para recorrer un diccionario, hay muchas formas, veamos una con un ejemplo."
   ]
  },
  {
   "cell_type": "code",
   "execution_count": null,
   "metadata": {},
   "outputs": [],
   "source": []
  },
  {
   "cell_type": "markdown",
   "metadata": {},
   "source": [
    "<div class=\"alert alert-success\">\n",
    "    <b>Ejercicio:</b> Extrae el valor cuando la <b>key = 'Bilbo'</b> en la siguiente lista de diccionarios\n",
    "    <b>[{'Bilbo':'Ian','Frodo':'Elijah'},{'Bilbo':'Martin','Thorin':'Richard'}]</b>\n",
    "</div>"
   ]
  },
  {
   "cell_type": "code",
   "execution_count": null,
   "metadata": {},
   "outputs": [],
   "source": []
  },
  {
   "cell_type": "markdown",
   "metadata": {},
   "source": [
    "<hr style=\"height: 2px; background-color: #858585;\">"
   ]
  },
  {
   "cell_type": "markdown",
   "metadata": {},
   "source": [
    "### 2.4.5- Range, Zip, Reversed\n",
    "\n",
    "#### Ranges\n",
    "\n",
    "Para cualquier `int n`, `range(n)` genera la secuencia de `int` de 0 a n-1. Por ejemplo:"
   ]
  },
  {
   "cell_type": "code",
   "execution_count": null,
   "metadata": {},
   "outputs": [],
   "source": []
  },
  {
   "cell_type": "markdown",
   "metadata": {},
   "source": [
    "Para convertirlo a una lista"
   ]
  },
  {
   "cell_type": "code",
   "execution_count": null,
   "metadata": {},
   "outputs": [],
   "source": []
  },
  {
   "cell_type": "markdown",
   "metadata": {},
   "source": [
    "<div class=\"alert alert-success\">\n",
    "    <b>Ejercicio:</b> Generar un conjunto que contenga los números impares de 1 a 99\n",
    "</div>"
   ]
  },
  {
   "cell_type": "code",
   "execution_count": null,
   "metadata": {},
   "outputs": [],
   "source": []
  },
  {
   "cell_type": "markdown",
   "metadata": {},
   "source": [
    "De una forma más concisa y clara:"
   ]
  },
  {
   "cell_type": "code",
   "execution_count": null,
   "metadata": {},
   "outputs": [],
   "source": []
  },
  {
   "cell_type": "markdown",
   "metadata": {},
   "source": [
    "#### Zip\n",
    "\n",
    "`zip` es una collección con elementos de la misma longitud. Por ejemplo:"
   ]
  },
  {
   "cell_type": "code",
   "execution_count": null,
   "metadata": {},
   "outputs": [],
   "source": []
  },
  {
   "cell_type": "markdown",
   "metadata": {},
   "source": [
    "Nos sirve para combinar listas:"
   ]
  },
  {
   "cell_type": "code",
   "execution_count": null,
   "metadata": {},
   "outputs": [],
   "source": []
  },
  {
   "cell_type": "markdown",
   "metadata": {},
   "source": [
    "Se puede usar en un bucle para iterar al mismo tiempo sobre dos listas"
   ]
  },
  {
   "cell_type": "code",
   "execution_count": null,
   "metadata": {},
   "outputs": [],
   "source": []
  },
  {
   "cell_type": "markdown",
   "metadata": {},
   "source": [
    "#### Reversed\n",
    "\n",
    "Podemos iterar en orden inverso usando `reversed(L)`"
   ]
  },
  {
   "cell_type": "code",
   "execution_count": null,
   "metadata": {},
   "outputs": [],
   "source": []
  },
  {
   "cell_type": "markdown",
   "metadata": {},
   "source": [
    "<div class=\"alert alert-success\">\n",
    "    <b>Ejercicio:</b> Considerando las listas <b>[20, 33, 40]</b> y <b>[1, 12, 15]</b>, crea una lista usando el módulo <b>zip</b> cuyos elementos sean la suma de 20 y 1, de 33 y 12 y de 40 y 15.\n",
    "</div>"
   ]
  },
  {
   "cell_type": "code",
   "execution_count": null,
   "metadata": {},
   "outputs": [],
   "source": []
  },
  {
   "cell_type": "markdown",
   "metadata": {},
   "source": [
    "De una forma más comprimida y más clara"
   ]
  },
  {
   "cell_type": "code",
   "execution_count": null,
   "metadata": {},
   "outputs": [],
   "source": []
  },
  {
   "cell_type": "markdown",
   "metadata": {},
   "source": [
    "<hr style=\"height: 2px; background-color: #858585;\">"
   ]
  },
  {
   "cell_type": "code",
   "execution_count": null,
   "metadata": {},
   "outputs": [],
   "source": []
  }
 ],
 "metadata": {
  "kernelspec": {
   "display_name": "Python 3",
   "language": "python",
   "name": "python3"
  },
  "language_info": {
   "codemirror_mode": {
    "name": "ipython",
    "version": 3
   },
   "file_extension": ".py",
   "mimetype": "text/x-python",
   "name": "python",
   "nbconvert_exporter": "python",
   "pygments_lexer": "ipython3",
   "version": "3.8.5"
  }
 },
 "nbformat": 4,
 "nbformat_minor": 4
}
